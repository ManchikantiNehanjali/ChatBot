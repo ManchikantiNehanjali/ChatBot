{
  "nbformat": 4,
  "nbformat_minor": 0,
  "metadata": {
    "colab": {
      "provenance": [],
      "authorship_tag": "ABX9TyMGa/aRRtYjTzIKhFeLiePa",
      "include_colab_link": true
    },
    "kernelspec": {
      "name": "python3",
      "display_name": "Python 3"
    },
    "language_info": {
      "name": "python"
    }
  },
  "cells": [
    {
      "cell_type": "markdown",
      "metadata": {
        "id": "view-in-github",
        "colab_type": "text"
      },
      "source": [
        "<a href=\"https://colab.research.google.com/github/ManchikantiNehanjali/ChatBot/blob/main/WeatherApp.ipynb\" target=\"_parent\"><img src=\"https://colab.research.google.com/assets/colab-badge.svg\" alt=\"Open In Colab\"/></a>"
      ]
    },
    {
      "cell_type": "code",
      "execution_count": 1,
      "metadata": {
        "id": "tLYAbZLQYMNp"
      },
      "outputs": [],
      "source": [
        "import requests\n",
        "import pandas as pd\n",
        "import json\n",
        "import datetime"
      ]
    },
    {
      "cell_type": "code",
      "source": [
        "city=input()\n",
        "date=input()\n",
        "URL='https://api.oikolab.com/weather'"
      ],
      "metadata": {
        "colab": {
          "base_uri": "https://localhost:8080/"
        },
        "id": "2DXWCgQkfUne",
        "outputId": "f234b1cf-b2f4-4941-cac3-3004e8bf8f83"
      },
      "execution_count": 15,
      "outputs": [
        {
          "name": "stdout",
          "output_type": "stream",
          "text": [
            "Delhi\n",
            "2022-12-02\n"
          ]
        }
      ]
    },
    {
      "cell_type": "code",
      "source": [
        "import requests\n",
        "\n",
        "resp = requests.get(URL,\n",
        "\n",
        "params={'param': ['temperature'],\n",
        "\n",
        "'start': date,\n",
        "\n",
        "'end': date,\n",
        "\n",
        "'location': city,\n",
        "\n",
        "'api-key': 'dddf1dc097444513a5cae66cd760a774', #this is to make sure that valid user is using the api \n",
        "'freq':'D'})   #freq:D this tells that data is given based on days if it is not specified the data is given based on minutes or hours\n",
        "weather_data=resp.json()['data']\n",
        "weather_data = json.loads(weather_data) #as weather_data is in string format to convert to JSON \n",
        "weather_data"
      ],
      "metadata": {
        "colab": {
          "base_uri": "https://localhost:8080/"
        },
        "id": "QrDKCodvYaYU",
        "outputId": "9a276ea1-7114-41bf-e1e9-ae909086dd45"
      },
      "execution_count": 17,
      "outputs": [
        {
          "output_type": "execute_result",
          "data": {
            "text/plain": [
              "{'columns': ['coordinates (lat,lon)',\n",
              "  'model (name)',\n",
              "  'model elevation (surface)',\n",
              "  'utc_offset (hrs)',\n",
              "  'temperature (degC)'],\n",
              " 'index': [1669939200],\n",
              " 'data': [['(28.6138954, 77.2090057)', 'era5', 220.72, 5.5, 17.04]]}"
            ]
          },
          "metadata": {},
          "execution_count": 17
        }
      ]
    },
    {
      "cell_type": "code",
      "source": [
        "df = pd.DataFrame(index=pd.to_datetime(weather_data['index'],unit='s'),\n",
        "                  data=weather_data['data'],\n",
        "                  columns=weather_data['columns'])\n",
        "df"
      ],
      "metadata": {
        "colab": {
          "base_uri": "https://localhost:8080/",
          "height": 81
        },
        "id": "oZdm9csIYWDi",
        "outputId": "0e05f9a1-d19d-4bc5-a14e-dbe94cc2a327"
      },
      "execution_count": 19,
      "outputs": [
        {
          "output_type": "execute_result",
          "data": {
            "text/plain": [
              "               coordinates (lat,lon) model (name)  model elevation (surface)  \\\n",
              "2022-12-02  (28.6138954, 77.2090057)         era5                     220.72   \n",
              "\n",
              "            utc_offset (hrs)  temperature (degC)  \n",
              "2022-12-02               5.5               17.04  "
            ],
            "text/html": [
              "\n",
              "  <div id=\"df-1adb2cd6-b663-408d-9a5e-8693ecae5eda\">\n",
              "    <div class=\"colab-df-container\">\n",
              "      <div>\n",
              "<style scoped>\n",
              "    .dataframe tbody tr th:only-of-type {\n",
              "        vertical-align: middle;\n",
              "    }\n",
              "\n",
              "    .dataframe tbody tr th {\n",
              "        vertical-align: top;\n",
              "    }\n",
              "\n",
              "    .dataframe thead th {\n",
              "        text-align: right;\n",
              "    }\n",
              "</style>\n",
              "<table border=\"1\" class=\"dataframe\">\n",
              "  <thead>\n",
              "    <tr style=\"text-align: right;\">\n",
              "      <th></th>\n",
              "      <th>coordinates (lat,lon)</th>\n",
              "      <th>model (name)</th>\n",
              "      <th>model elevation (surface)</th>\n",
              "      <th>utc_offset (hrs)</th>\n",
              "      <th>temperature (degC)</th>\n",
              "    </tr>\n",
              "  </thead>\n",
              "  <tbody>\n",
              "    <tr>\n",
              "      <th>2022-12-02</th>\n",
              "      <td>(28.6138954, 77.2090057)</td>\n",
              "      <td>era5</td>\n",
              "      <td>220.72</td>\n",
              "      <td>5.5</td>\n",
              "      <td>17.04</td>\n",
              "    </tr>\n",
              "  </tbody>\n",
              "</table>\n",
              "</div>\n",
              "      <button class=\"colab-df-convert\" onclick=\"convertToInteractive('df-1adb2cd6-b663-408d-9a5e-8693ecae5eda')\"\n",
              "              title=\"Convert this dataframe to an interactive table.\"\n",
              "              style=\"display:none;\">\n",
              "        \n",
              "  <svg xmlns=\"http://www.w3.org/2000/svg\" height=\"24px\"viewBox=\"0 0 24 24\"\n",
              "       width=\"24px\">\n",
              "    <path d=\"M0 0h24v24H0V0z\" fill=\"none\"/>\n",
              "    <path d=\"M18.56 5.44l.94 2.06.94-2.06 2.06-.94-2.06-.94-.94-2.06-.94 2.06-2.06.94zm-11 1L8.5 8.5l.94-2.06 2.06-.94-2.06-.94L8.5 2.5l-.94 2.06-2.06.94zm10 10l.94 2.06.94-2.06 2.06-.94-2.06-.94-.94-2.06-.94 2.06-2.06.94z\"/><path d=\"M17.41 7.96l-1.37-1.37c-.4-.4-.92-.59-1.43-.59-.52 0-1.04.2-1.43.59L10.3 9.45l-7.72 7.72c-.78.78-.78 2.05 0 2.83L4 21.41c.39.39.9.59 1.41.59.51 0 1.02-.2 1.41-.59l7.78-7.78 2.81-2.81c.8-.78.8-2.07 0-2.86zM5.41 20L4 18.59l7.72-7.72 1.47 1.35L5.41 20z\"/>\n",
              "  </svg>\n",
              "      </button>\n",
              "      \n",
              "  <style>\n",
              "    .colab-df-container {\n",
              "      display:flex;\n",
              "      flex-wrap:wrap;\n",
              "      gap: 12px;\n",
              "    }\n",
              "\n",
              "    .colab-df-convert {\n",
              "      background-color: #E8F0FE;\n",
              "      border: none;\n",
              "      border-radius: 50%;\n",
              "      cursor: pointer;\n",
              "      display: none;\n",
              "      fill: #1967D2;\n",
              "      height: 32px;\n",
              "      padding: 0 0 0 0;\n",
              "      width: 32px;\n",
              "    }\n",
              "\n",
              "    .colab-df-convert:hover {\n",
              "      background-color: #E2EBFA;\n",
              "      box-shadow: 0px 1px 2px rgba(60, 64, 67, 0.3), 0px 1px 3px 1px rgba(60, 64, 67, 0.15);\n",
              "      fill: #174EA6;\n",
              "    }\n",
              "\n",
              "    [theme=dark] .colab-df-convert {\n",
              "      background-color: #3B4455;\n",
              "      fill: #D2E3FC;\n",
              "    }\n",
              "\n",
              "    [theme=dark] .colab-df-convert:hover {\n",
              "      background-color: #434B5C;\n",
              "      box-shadow: 0px 1px 3px 1px rgba(0, 0, 0, 0.15);\n",
              "      filter: drop-shadow(0px 1px 2px rgba(0, 0, 0, 0.3));\n",
              "      fill: #FFFFFF;\n",
              "    }\n",
              "  </style>\n",
              "\n",
              "      <script>\n",
              "        const buttonEl =\n",
              "          document.querySelector('#df-1adb2cd6-b663-408d-9a5e-8693ecae5eda button.colab-df-convert');\n",
              "        buttonEl.style.display =\n",
              "          google.colab.kernel.accessAllowed ? 'block' : 'none';\n",
              "\n",
              "        async function convertToInteractive(key) {\n",
              "          const element = document.querySelector('#df-1adb2cd6-b663-408d-9a5e-8693ecae5eda');\n",
              "          const dataTable =\n",
              "            await google.colab.kernel.invokeFunction('convertToInteractive',\n",
              "                                                     [key], {});\n",
              "          if (!dataTable) return;\n",
              "\n",
              "          const docLinkHtml = 'Like what you see? Visit the ' +\n",
              "            '<a target=\"_blank\" href=https://colab.research.google.com/notebooks/data_table.ipynb>data table notebook</a>'\n",
              "            + ' to learn more about interactive tables.';\n",
              "          element.innerHTML = '';\n",
              "          dataTable['output_type'] = 'display_data';\n",
              "          await google.colab.output.renderOutput(dataTable, element);\n",
              "          const docLink = document.createElement('div');\n",
              "          docLink.innerHTML = docLinkHtml;\n",
              "          element.appendChild(docLink);\n",
              "        }\n",
              "      </script>\n",
              "    </div>\n",
              "  </div>\n",
              "  "
            ]
          },
          "metadata": {},
          "execution_count": 19
        }
      ]
    },
    {
      "cell_type": "code",
      "source": [
        "temp=df.iloc[0,4]\n",
        "print(f\"Temperature for {city} on {date} = {temp}C\")"
      ],
      "metadata": {
        "colab": {
          "base_uri": "https://localhost:8080/"
        },
        "id": "N5KRUP1sgpsg",
        "outputId": "af6e4ccb-8cde-4fab-abfa-cdd21a73e068"
      },
      "execution_count": 25,
      "outputs": [
        {
          "output_type": "stream",
          "name": "stdout",
          "text": [
            "Temperature for Delhi on 2022-12-02 = 17.04C\n"
          ]
        }
      ]
    },
    {
      "cell_type": "code",
      "source": [
        "def Response(s_date,e_date,city):\n",
        "  resp = requests.get(URL,\n",
        "\n",
        "  params={'param': ['temperature'],'start': s_date,'end': e_date,'location': city,'api-key': 'dddf1dc097444513a5cae66cd760a774','freq':'D'})\n",
        "  weather_data=resp.json()['data']\n",
        "  weather_data = json.loads(weather_data)\n",
        "  df = pd.DataFrame(index=pd.to_datetime(weather_data['index'],unit='s'),data=weather_data['data'],columns=weather_data['columns'])\n",
        "  temp=df['temperature (degC)']\n",
        "  return temp.var()"
      ],
      "metadata": {
        "id": "eVIYngDwkO1D"
      },
      "execution_count": 29,
      "outputs": []
    },
    {
      "cell_type": "code",
      "source": [
        "s_date=input()\n",
        "s_date=s_date.split('-')\n",
        "obj1 = datetime.datetime(int(s_date[0]),int(s_date[1]),int(s_date[2]))\n",
        "obj2=obj1+datetime.timedelta(days=7)\n",
        "\n",
        "s_date=str(obj1).split(' ')[0]\n",
        "e_date=str(obj2).split(' ')[0]\n",
        "\n",
        "print(s_date,e_date)\n",
        "\n",
        "city1=input()\n",
        "city2=input()\n",
        "varcity1=Response(s_date,e_date,city1)\n",
        "varcity2=Response(s_date,e_date,city2)\n",
        "\n",
        "if varcity1>varcity2:\n",
        "  print(f\"We choose {city2} because of less temperature variance\")\n",
        "else:\n",
        "  print(f\"We choose {city1} because of less temperature variance\")\n",
        "\n"
      ],
      "metadata": {
        "colab": {
          "base_uri": "https://localhost:8080/"
        },
        "id": "h9iXx0AulqWg",
        "outputId": "0445ef14-106d-4529-d88e-882d912be723"
      },
      "execution_count": 39,
      "outputs": [
        {
          "output_type": "stream",
          "name": "stdout",
          "text": [
            "2022-02-27\n",
            "2022-02-27 2022-03-06\n",
            "Delhi\n",
            "Mumbai\n",
            "1.5189839285714275 0.5394982142857144\n",
            "We choose Mumbai because of less temperature variance\n"
          ]
        }
      ]
    }
  ]
}